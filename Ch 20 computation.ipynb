{
 "cells": [
  {
   "cell_type": "code",
   "execution_count": 3,
   "id": "f0dc8290",
   "metadata": {},
   "outputs": [],
   "source": [
    "import numpy as np\n",
    "import pandas as pd\n",
    "import matplotlib.pyplot as plt"
   ]
  },
  {
   "cell_type": "code",
   "execution_count": 4,
   "id": "7dc836f9",
   "metadata": {},
   "outputs": [],
   "source": [
    "%matplotlib inline"
   ]
  },
  {
   "cell_type": "code",
   "execution_count": 5,
   "id": "706f3b34",
   "metadata": {},
   "outputs": [],
   "source": [
    "# Simple model of tumor growth\n",
    "# Assume a patient with stage IV kidney cancer that was 15.5cm x 15cm at diagnosis\n",
    "# Assume tumors grow at constant doubling time, and are roughly spherical\n",
    "\n",
    "# Define t1 as time when patient retired from military, t2 as time of diagnosis\n",
    "# t2 - r1 = about 9.0 years\n",
    "# Assume tumor was 1cm at t1, estimate size at t2\n",
    "\n",
    "# A function to compute the volume of a sphere\n",
    "\n",
    "def calc_volume(diameter):\n",
    "    \"\"\"Converts diameter to a volume\"\"\"\n",
    "    factor = 4 * np.pi / 3\n",
    "    return factor * (diameter/2.0)**3"
   ]
  },
  {
   "cell_type": "code",
   "execution_count": 6,
   "id": "faa97068",
   "metadata": {},
   "outputs": [
    {
     "data": {
      "text/plain": [
       "0.5235987755982988"
      ]
     },
     "execution_count": 6,
     "metadata": {},
     "output_type": "execute_result"
    }
   ],
   "source": [
    "# Tumor volume at t1\n",
    "\n",
    "d1 = 1\n",
    "v1 = calc_volume(d1)\n",
    "v1"
   ]
  },
  {
   "cell_type": "code",
   "execution_count": 7,
   "id": "ce1958e5",
   "metadata": {},
   "outputs": [
    {
     "data": {
      "text/plain": [
       "0.45006165228113443"
      ]
     },
     "execution_count": 7,
     "metadata": {},
     "output_type": "execute_result"
    }
   ],
   "source": [
    "# Median doubling time of 811 days comes from a paper\n",
    "\n",
    "median_doubling_time = 811\n",
    "rdt = 365 / median_doubling_time\n",
    "rdt"
   ]
  },
  {
   "cell_type": "code",
   "execution_count": 8,
   "id": "65c3d690",
   "metadata": {},
   "outputs": [
    {
     "data": {
      "text/plain": [
       "4.05055487053021"
      ]
     },
     "execution_count": 8,
     "metadata": {},
     "output_type": "execute_result"
    }
   ],
   "source": [
    "# Compute the number of doublings between t1 and t2\n",
    "\n",
    "interval = 9.0\n",
    "doublings = interval * rdt\n",
    "doublings"
   ]
  },
  {
   "cell_type": "code",
   "execution_count": 9,
   "id": "7623dafc",
   "metadata": {},
   "outputs": [
    {
     "data": {
      "text/plain": [
       "8.676351488087187"
      ]
     },
     "execution_count": 9,
     "metadata": {},
     "output_type": "execute_result"
    }
   ],
   "source": [
    "# Volume at t2\n",
    "\n",
    "v2 = v1 * 2**doublings\n",
    "v2"
   ]
  },
  {
   "cell_type": "code",
   "execution_count": 10,
   "id": "9b730d6c",
   "metadata": {},
   "outputs": [],
   "source": [
    "# This function computes the diameter of a sphere given a volume\n",
    "\n",
    "def calc_diameter(volume):\n",
    "    \"\"\"Computes a diameter from a volume\"\"\"\n",
    "    factor = 3 / np.pi / 4\n",
    "    return 2 * (factor*volume)**(1/3)"
   ]
  },
  {
   "cell_type": "code",
   "execution_count": 11,
   "id": "db205562",
   "metadata": {},
   "outputs": [
    {
     "data": {
      "text/plain": [
       "2.5494480788327483"
      ]
     },
     "execution_count": 11,
     "metadata": {},
     "output_type": "execute_result"
    }
   ],
   "source": [
    "# Diameter of the tumor at t2\n",
    "\n",
    "d2 = calc_diameter(v2)\n",
    "d2"
   ]
  },
  {
   "cell_type": "code",
   "execution_count": 12,
   "id": "9544c36b",
   "metadata": {},
   "outputs": [
    {
     "data": {
      "text/plain": [
       "53"
      ]
     },
     "execution_count": 12,
     "metadata": {},
     "output_type": "execute_result"
    }
   ],
   "source": [
    "# This model demonstrates tumor growth, but doesn't answer the question\n",
    "# With a tumor of given size, what is the  distribution of its age\n",
    "# So we'll run simulations of tumor growth to get a distribution of size conditioned on age\n",
    "# Then compute the distribution of age conditioned on size\n",
    "# RDT estimates for the 53 patients in the study come from Zhang et al. paper\n",
    "\n",
    "rdts = [5.089,  3.572,  3.242,  2.642,  1.982,  1.847,  1.908,  1.798,\n",
    "        1.798,  1.761,  2.703, -0.416,  0.024,  0.869,  0.746,  0.257,\n",
    "        0.269,  0.086,  0.086,  1.321,  1.052,  1.076,  0.758,  0.587,\n",
    "        0.367,  0.416,  0.073,  0.538,  0.281,  0.122, -0.869, -1.431,\n",
    "        0.012,  0.037, -0.135,  0.122,  0.208,  0.245,  0.404,  0.648,\n",
    "        0.673,  0.673,  0.563,  0.391,  0.049,  0.538,  0.514,  0.404,\n",
    "        0.404,  0.33,  -0.061,  0.538,  0.306]\n",
    "\n",
    "rdt_sample = np.array(rdts)\n",
    "len(rdt_sample)"
   ]
  },
  {
   "cell_type": "code",
   "execution_count": 13,
   "id": "f3f14bb4",
   "metadata": {},
   "outputs": [],
   "source": [
    "from empiricaldist import Pmf\n",
    "from scipy.stats import gaussian_kde"
   ]
  },
  {
   "cell_type": "code",
   "execution_count": 14,
   "id": "d3ea8311",
   "metadata": {},
   "outputs": [],
   "source": [
    "def kde_from_sample(sample, qs):\n",
    "    \"\"\"Make a kernel density estimate from a sample.\"\"\"\n",
    "    kde = gaussian_kde(sample)\n",
    "    ps = kde(qs)\n",
    "    pmf = Pmf(ps, qs)\n",
    "    pmf.normalize()\n",
    "    return pmf"
   ]
  },
  {
   "cell_type": "code",
   "execution_count": 15,
   "id": "a9255d9d",
   "metadata": {},
   "outputs": [],
   "source": [
    "# Use the sample of RDTs to estimate PDF\n",
    "\n",
    "qs = np.linspace(-2, 6, num=201)\n",
    "pmf_rdt = kde_from_sample(rdt_sample, qs)"
   ]
  },
  {
   "cell_type": "code",
   "execution_count": 16,
   "id": "94e92666",
   "metadata": {},
   "outputs": [
    {
     "data": {
      "text/plain": [
       "<Axes: title={'center': 'Distribution of growth rates'}, xlabel='Reciprocal doubling time (RDT)', ylabel='PDF'>"
      ]
     },
     "execution_count": 16,
     "metadata": {},
     "output_type": "execute_result"
    },
    {
     "data": {
      "image/png": "[encoded data removed]",
      "text/plain": [
       "<Figure size 640x480 with 1 Axes>"
      ]
     },
     "metadata": {},
     "output_type": "display_data"
    }
   ],
   "source": [
    "pmf_rdt.plot(title='Distribution of growth rates', xlabel='Reciprocal doubling time (RDT)', ylabel='PDF')"
   ]
  },
  {
   "cell_type": "code",
   "execution_count": 17,
   "id": "e734def3",
   "metadata": {},
   "outputs": [
    {
     "data": {
      "text/plain": [
       "(0.014137166941154066, 4188.790204786391)"
      ]
     },
     "execution_count": 17,
     "metadata": {},
     "output_type": "execute_result"
    }
   ],
   "source": [
    "# We'll use this distribution to simulate tumor growth: simulate a series of intervals until a tumor reaches a max size\n",
    "# We choose an interval of 245 days based on the median time in the data source\n",
    "# Based on other data we choose 0.3cm as the min diameter and 20cm as the max\n",
    "\n",
    "interval = 245/365\n",
    "min_diameter = 0.3\n",
    "max_diameter = 20\n",
    "\n",
    "# calc_volume used to compute initial and max volumes\n",
    "\n",
    "v0 = calc_volume(min_diameter)\n",
    "vmax = calc_volume(max_diameter)\n",
    "v0, vmax"
   ]
  },
  {
   "cell_type": "code",
   "execution_count": 18,
   "id": "7988c306",
   "metadata": {},
   "outputs": [],
   "source": [
    "# This function runs the simulation\n",
    "\n",
    "def simulate_growth(pmf_rdt):\n",
    "    \"\"\"Simulate the growth of a tumor.\"\"\"\n",
    "    age = 0\n",
    "    volume = v0\n",
    "    res = []\n",
    "    \n",
    "    while True:\n",
    "        res.append((age, volume))\n",
    "        if volume > vmax:\n",
    "            break\n",
    "\n",
    "        rdt = pmf_rdt.choice()\n",
    "        age += interval \n",
    "        doublings = rdt * interval\n",
    "        volume *= 2**doublings\n",
    "        \n",
    "    columns = ['age', 'volume']\n",
    "    sim = pd.DataFrame(res, columns=columns)\n",
    "    sim['diameter'] = calc_diameter(sim['volume'])\n",
    "    return sim\n",
    "\n",
    "# THIS DOESN'T WORK"
   ]
  },
  {
   "cell_type": "code",
   "execution_count": 19,
   "id": "1b2e8c88",
   "metadata": {},
   "outputs": [
    {
     "data": {
      "text/html": [
       "<div>\n",
       "<style scoped>\n",
       "    .dataframe tbody tr th:only-of-type {\n",
       "        vertical-align: middle;\n",
       "    }\n",
       "\n",
       "    .dataframe tbody tr th {\n",
       "        vertical-align: top;\n",
       "    }\n",
       "\n",
       "    .dataframe thead th {\n",
       "        text-align: right;\n",
       "    }\n",
       "</style>\n",
       "<table border=\"1\" class=\"dataframe\">\n",
       "  <thead>\n",
       "    <tr style=\"text-align: right;\">\n",
       "      <th></th>\n",
       "      <th>age</th>\n",
       "      <th>volume</th>\n",
       "      <th>diameter</th>\n",
       "    </tr>\n",
       "  </thead>\n",
       "  <tbody>\n",
       "    <tr>\n",
       "      <th>0</th>\n",
       "      <td>0.000000</td>\n",
       "      <td>0.014137</td>\n",
       "      <td>0.3</td>\n",
       "    </tr>\n",
       "    <tr>\n",
       "      <th>1</th>\n",
       "      <td>0.671233</td>\n",
       "      <td>[6309.491742731578]</td>\n",
       "      <td>[22.926191621568222]</td>\n",
       "    </tr>\n",
       "    <tr>\n",
       "      <th>2</th>\n",
       "      <td>1.342466</td>\n",
       "      <td>[6309.491742731578]</td>\n",
       "      <td>[22.926191621568222]</td>\n",
       "    </tr>\n",
       "    <tr>\n",
       "      <th>3</th>\n",
       "      <td>2.013699</td>\n",
       "      <td>[6309.491742731578]</td>\n",
       "      <td>[22.926191621568222]</td>\n",
       "    </tr>\n",
       "    <tr>\n",
       "      <th>4</th>\n",
       "      <td>2.684932</td>\n",
       "      <td>[6309.491742731578]</td>\n",
       "      <td>[22.926191621568222]</td>\n",
       "    </tr>\n",
       "  </tbody>\n",
       "</table>\n",
       "</div>"
      ],
      "text/plain": [
       "        age               volume              diameter\n",
       "0  0.000000             0.014137                   0.3\n",
       "1  0.671233  [6309.491742731578]  [22.926191621568222]\n",
       "2  1.342466  [6309.491742731578]  [22.926191621568222]\n",
       "3  2.013699  [6309.491742731578]  [22.926191621568222]\n",
       "4  2.684932  [6309.491742731578]  [22.926191621568222]"
      ]
     },
     "execution_count": 19,
     "metadata": {},
     "output_type": "execute_result"
    }
   ],
   "source": [
    "sim = simulate_growth(pmf_rdt)\n",
    "sim.head()"
   ]
  },
  {
   "cell_type": "code",
   "execution_count": 26,
   "id": "7fada967",
   "metadata": {},
   "outputs": [
    {
     "data": {
      "text/html": [
       "<div>\n",
       "<style scoped>\n",
       "    .dataframe tbody tr th:only-of-type {\n",
       "        vertical-align: middle;\n",
       "    }\n",
       "\n",
       "    .dataframe tbody tr th {\n",
       "        vertical-align: top;\n",
       "    }\n",
       "\n",
       "    .dataframe thead th {\n",
       "        text-align: right;\n",
       "    }\n",
       "</style>\n",
       "<table border=\"1\" class=\"dataframe\">\n",
       "  <thead>\n",
       "    <tr style=\"text-align: right;\">\n",
       "      <th></th>\n",
       "      <th>age</th>\n",
       "      <th>volume</th>\n",
       "      <th>diameter</th>\n",
       "    </tr>\n",
       "  </thead>\n",
       "  <tbody>\n",
       "    <tr>\n",
       "      <th>19</th>\n",
       "      <td>12.753425</td>\n",
       "      <td>[6078.962690616232]</td>\n",
       "      <td>[22.643503235067385]</td>\n",
       "    </tr>\n",
       "    <tr>\n",
       "      <th>20</th>\n",
       "      <td>13.424658</td>\n",
       "      <td>[6078.962690616232]</td>\n",
       "      <td>[22.643503235067385]</td>\n",
       "    </tr>\n",
       "    <tr>\n",
       "      <th>21</th>\n",
       "      <td>14.095890</td>\n",
       "      <td>[6078.962690616232]</td>\n",
       "      <td>[22.643503235067385]</td>\n",
       "    </tr>\n",
       "    <tr>\n",
       "      <th>22</th>\n",
       "      <td>14.767123</td>\n",
       "      <td>[6078.962690616232]</td>\n",
       "      <td>[22.643503235067385]</td>\n",
       "    </tr>\n",
       "    <tr>\n",
       "      <th>23</th>\n",
       "      <td>15.438356</td>\n",
       "      <td>[6078.962690616232]</td>\n",
       "      <td>[22.643503235067385]</td>\n",
       "    </tr>\n",
       "  </tbody>\n",
       "</table>\n",
       "</div>"
      ],
      "text/plain": [
       "          age               volume              diameter\n",
       "19  12.753425  [6078.962690616232]  [22.643503235067385]\n",
       "20  13.424658  [6078.962690616232]  [22.643503235067385]\n",
       "21  14.095890  [6078.962690616232]  [22.643503235067385]\n",
       "22  14.767123  [6078.962690616232]  [22.643503235067385]\n",
       "23  15.438356  [6078.962690616232]  [22.643503235067385]"
      ]
     },
     "execution_count": 26,
     "metadata": {},
     "output_type": "execute_result"
    }
   ],
   "source": [
    "sim.tail()"
   ]
  },
  {
   "cell_type": "code",
   "execution_count": 27,
   "id": "72126b2a",
   "metadata": {},
   "outputs": [],
   "source": [
    "# Run 101 iterations\n",
    "sims = [simulate_growth(pmf_rdt) for _ in range(101)]"
   ]
  },
  {
   "cell_type": "code",
   "execution_count": 28,
   "id": "ea402d88",
   "metadata": {},
   "outputs": [
    {
     "data": {
      "text/plain": [
       "([<matplotlib.axis.YTick at 0x7f0d6b73d990>,\n",
       "  <matplotlib.axis.YTick at 0x7f0d6b77bf10>,\n",
       "  <matplotlib.axis.YTick at 0x7f0d6b5a9d90>,\n",
       "  <matplotlib.axis.YTick at 0x7f0d6b5abe50>,\n",
       "  <matplotlib.axis.YTick at 0x7f0d6b5b2310>,\n",
       "  <matplotlib.axis.YTick at 0x7f0d6b5b8990>,\n",
       "  <matplotlib.axis.YTick at 0x7f0d6b5bad90>],\n",
       " [Text(0, 0.2, '0.2'),\n",
       "  Text(0, 0.5, '0.5'),\n",
       "  Text(0, 1.0, '1'),\n",
       "  Text(0, 2.0, '2'),\n",
       "  Text(0, 5.0, '5'),\n",
       "  Text(0, 10.0, '10'),\n",
       "  Text(0, 20.0, '20')])"
      ]
     },
     "execution_count": 28,
     "metadata": {},
     "output_type": "execute_result"
    },
    {
     "data": {
      "image/png": "[encoded data removed]",
      "text/plain": [
       "<Figure size 640x480 with 1 Axes>"
      ]
     },
     "metadata": {},
     "output_type": "display_data"
    }
   ],
   "source": [
    "diameters = [4, 8, 16]\n",
    "for diameter in diameters:\n",
    "    plt.axhline(diameter, color='C5', linewidth=2, ls=':')\n",
    "    \n",
    "for sim in sims:\n",
    "    plt.plot(sim['age'], sim['diameter'], color='C1', linewidth=0.5, alpha=0.5)\n",
    "    \n",
    "plt.xlabel('Tumor age (years)')\n",
    "plt.ylabel('Diameter (cm, log scale)')\n",
    "plt.ylim([0.2, 20])\n",
    "plt.yscale('log')\n",
    "yticks = [0.2, 0.5, 1, 2, 5, 10, 20]\n",
    "plt.yticks(yticks, yticks)"
   ]
  },
  {
   "cell_type": "code",
   "execution_count": 20,
   "id": "2c631fdc",
   "metadata": {},
   "outputs": [],
   "source": [
    "# I guess we'll move on to the next example\n",
    "\n",
    "total_squares = 25\n",
    "squares_counted = 5\n",
    "yeast_counted = 49\n",
    "\n",
    "# The 1st part of the model defines yeast concentration\n",
    "\n",
    "import pymc as pm"
   ]
  },
  {
   "cell_type": "code",
   "execution_count": 23,
   "id": "a101f123",
   "metadata": {},
   "outputs": [],
   "source": [
    "billion = 1e9\n",
    "\n",
    "with pm.Model() as model:\n",
    "    yeast_conc = pm.Normal('yeast_conc', mu=2 * billion, sigma=0.4 * billion)\n",
    "    \n",
    "    shaker1_vol = pm.Normal('shaker1_vol', mu=9.0, sigma=0.05)\n",
    "    shaker2_vol = pm.Normal('shaker2_vol', mu=9.0, sigma=0.05)\n",
    "    shaker3_vol = pm.Normal('shaker3_vol', mu=9.0, sigma=0.05)"
   ]
  },
  {
   "cell_type": "code",
   "execution_count": 24,
   "id": "2bf83672",
   "metadata": {},
   "outputs": [],
   "source": [
    "with model:\n",
    "    yeast_slurry_vol = pm.Normal('yeast_slurry_vol', mu=1.0, sigma=0.01)\n",
    "    shaker1_to_shaker2_vol = pm.Normal('shaker1_to_shaker2_vol', mu=1.0, sigma=0.01)\n",
    "    shaker2_to_shaker3_vol = pm.Normal('shaker2_to_shaker3_vol', mu=1.0, sigma=0.01)"
   ]
  },
  {
   "cell_type": "code",
   "execution_count": 25,
   "id": "621ef0d5",
   "metadata": {},
   "outputs": [],
   "source": [
    "with model:\n",
    "    dilution_shaker1 = (yeast_slurry_vol / (yeast_slurry_vol + shaker1_vol))\n",
    "    dilution_shaker2 = (shaker1_to_shaker2_vol / (shaker1_to_shaker2_vol + shaker2_vol))\n",
    "    dilution_shaker3 = (shaker2_to_shaker3_vol / (shaker2_to_shaker3_vol + shaker3_vol))\n",
    "    \n",
    "    final_dilution = (dilution_shaker1 * dilution_shaker2 * dilution_shaker3)"
   ]
  },
  {
   "cell_type": "code",
   "execution_count": 27,
   "id": "b9392f55",
   "metadata": {},
   "outputs": [],
   "source": [
    "with model:\n",
    "    chamber_vol = pm.Gamma('chamber_vol', mu=0.0001, sigma=0.0001/20)"
   ]
  },
  {
   "cell_type": "code",
   "execution_count": 28,
   "id": "399e829a",
   "metadata": {},
   "outputs": [],
   "source": [
    "with model:\n",
    "    yeast_in_chamber = pm.Poisson('yeast_in_chamber', mu = yeast_conc * final_dilution * chamber_vol)"
   ]
  },
  {
   "cell_type": "code",
   "execution_count": 29,
   "id": "280af9b3",
   "metadata": {},
   "outputs": [],
   "source": [
    "with model:\n",
    "    count = pm.Binomial('count', n=yeast_in_chamber, p=squares_counted/total_squares, observed=yeast_counted)"
   ]
  },
  {
   "cell_type": "code",
   "execution_count": 30,
   "id": "f253bd79",
   "metadata": {},
   "outputs": [
    {
     "data": {
      "text/html": [
       "<pre style=\"white-space:pre;overflow-x:auto;line-height:normal;font-family:Menlo,'DejaVu Sans Mono',consolas,'Courier New',monospace\">                                                                                                                   \n",
       " <span style=\"font-weight: bold\">          </span> <span style=\"font-weight: bold\">       </span> <span style=\"font-weight: bold\">          </span> <span style=\"font-weight: bold\"> Step     </span> <span style=\"font-weight: bold\"> Grad     </span> <span style=\"font-weight: bold\">        </span> <span style=\"font-weight: bold\">         </span> <span style=\"font-weight: bold\"> Accept   </span> <span style=\"font-weight: bold\"> Sampling </span> <span style=\"font-weight: bold\">         </span> <span style=\"font-weight: bold\">          </span> \n",
       " <span style=\"font-weight: bold\"> Progress </span> <span style=\"font-weight: bold\"> Draws </span> <span style=\"font-weight: bold\"> Diverge… </span> <span style=\"font-weight: bold\"> size     </span> <span style=\"font-weight: bold\"> evals    </span> <span style=\"font-weight: bold\"> Tuning </span> <span style=\"font-weight: bold\"> Scaling </span> <span style=\"font-weight: bold\"> Rate     </span> <span style=\"font-weight: bold\"> Speed    </span> <span style=\"font-weight: bold\"> Elapsed </span> <span style=\"font-weight: bold\"> Remaini… </span> \n",
       " ───────────────────────────────────────────────────────────────────────────────────────────────────────────────── \n",
       "  <span style=\"color: #1f77b4; text-decoration-color: #1f77b4\">━━━━━━━━</span>   2000    0          1.25       3          False    32.21     0.00       279.20     0:00:07   0:00:00   \n",
       "                                                                                    draws/s                        \n",
       "  <span style=\"color: #1f77b4; text-decoration-color: #1f77b4\">━━━━━━━━</span>   2000    0          0.84       95         False    32.21     0.64       441.76     0:00:04   0:00:00   \n",
       "                                                                                    draws/s                        \n",
       "  <span style=\"color: #1f77b4; text-decoration-color: #1f77b4\">━━━━━━━━</span>   2000    0          0.98       3          False    32.21     0.71       475.82     0:00:04   0:00:00   \n",
       "                                                                                    draws/s                        \n",
       "  <span style=\"color: #1f77b4; text-decoration-color: #1f77b4\">━━━━━━━━</span>   2000    0          0.92       3          False    32.21     0.35       273.05     0:00:07   0:00:00   \n",
       "                                                                                    draws/s                        \n",
       "                                                                                                                   \n",
       "</pre>\n"
      ],
      "text/plain": [
       "                                                                                                                   \n",
       " \u001b[1m          \u001b[0m \u001b[1m       \u001b[0m \u001b[1m          \u001b[0m \u001b[1m \u001b[0m\u001b[1mStep    \u001b[0m\u001b[1m \u001b[0m \u001b[1m \u001b[0m\u001b[1mGrad    \u001b[0m\u001b[1m \u001b[0m \u001b[1m        \u001b[0m \u001b[1m         \u001b[0m \u001b[1m \u001b[0m\u001b[1mAccept  \u001b[0m\u001b[1m \u001b[0m \u001b[1m \u001b[0m\u001b[1mSampling\u001b[0m\u001b[1m \u001b[0m \u001b[1m         \u001b[0m \u001b[1m          \u001b[0m \n",
       " \u001b[1m \u001b[0m\u001b[1mProgress\u001b[0m\u001b[1m \u001b[0m \u001b[1m \u001b[0m\u001b[1mDraws\u001b[0m\u001b[1m \u001b[0m \u001b[1m \u001b[0m\u001b[1mDiverge…\u001b[0m\u001b[1m \u001b[0m \u001b[1m \u001b[0m\u001b[1msize    \u001b[0m\u001b[1m \u001b[0m \u001b[1m \u001b[0m\u001b[1mevals   \u001b[0m\u001b[1m \u001b[0m \u001b[1m \u001b[0m\u001b[1mTuning\u001b[0m\u001b[1m \u001b[0m \u001b[1m \u001b[0m\u001b[1mScaling\u001b[0m\u001b[1m \u001b[0m \u001b[1m \u001b[0m\u001b[1mRate    \u001b[0m\u001b[1m \u001b[0m \u001b[1m \u001b[0m\u001b[1mSpeed   \u001b[0m\u001b[1m \u001b[0m \u001b[1m \u001b[0m\u001b[1mElapsed\u001b[0m\u001b[1m \u001b[0m \u001b[1m \u001b[0m\u001b[1mRemaini…\u001b[0m\u001b[1m \u001b[0m \n",
       " ───────────────────────────────────────────────────────────────────────────────────────────────────────────────── \n",
       "  \u001b[38;2;31;119;180m━━━━━━━━\u001b[0m   2000    0          1.25       3          False    32.21     0.00       279.20     0:00:07   0:00:00   \n",
       "                                                                                    draws/s                        \n",
       "  \u001b[38;2;31;119;180m━━━━━━━━\u001b[0m   2000    0          0.84       95         False    32.21     0.64       441.76     0:00:04   0:00:00   \n",
       "                                                                                    draws/s                        \n",
       "  \u001b[38;2;31;119;180m━━━━━━━━\u001b[0m   2000    0          0.98       3          False    32.21     0.71       475.82     0:00:04   0:00:00   \n",
       "                                                                                    draws/s                        \n",
       "  \u001b[38;2;31;119;180m━━━━━━━━\u001b[0m   2000    0          0.92       3          False    32.21     0.35       273.05     0:00:07   0:00:00   \n",
       "                                                                                    draws/s                        \n",
       "                                                                                                                   \n"
      ]
     },
     "metadata": {},
     "output_type": "display_data"
    },
    {
     "data": {
      "text/html": [
       "<pre style=\"white-space:pre;overflow-x:auto;line-height:normal;font-family:Menlo,'DejaVu Sans Mono',consolas,'Courier New',monospace\"></pre>\n"
      ],
      "text/plain": []
     },
     "metadata": {},
     "output_type": "display_data"
    },
    {
     "name": "stderr",
     "output_type": "stream",
     "text": [
      "Sampling 4 chains for 1_000 tune and 1_000 draw iterations (4_000 + 4_000 draws total) took 7 seconds.\n",
      "The rhat statistic is larger than 1.01 for some parameters. This indicates problems during sampling. See https://arxiv.org/abs/1903.08008 for details\n",
      "The effective sample size per chain is smaller than 100 for some parameters.  A higher number is needed for reliable rhat and ess computation. See https://arxiv.org/abs/1903.08008 for details\n"
     ]
    }
   ],
   "source": [
    "options = dict(return_inferencedata=False)\n",
    "\n",
    "with model:\n",
    "    trace = pm.sample(1000, **options)"
   ]
  },
  {
   "cell_type": "code",
   "execution_count": 31,
   "id": "139dff8b",
   "metadata": {},
   "outputs": [],
   "source": [
    "from empiricaldist import Cdf"
   ]
  },
  {
   "cell_type": "code",
   "execution_count": 32,
   "id": "f8b844b5",
   "metadata": {},
   "outputs": [
    {
     "name": "stdout",
     "output_type": "stream",
     "text": [
      "2.282203724489686 [1.9097178  2.72641937]\n"
     ]
    }
   ],
   "source": [
    "posterior_sample = trace['yeast_conc'] / billion\n",
    "cdf_pymc = Cdf.from_seq(posterior_sample)\n",
    "print(cdf_pymc.mean(), cdf_pymc.credible_interval(0.9))"
   ]
  },
  {
   "cell_type": "code",
   "execution_count": 35,
   "id": "cc1e9faa",
   "metadata": {},
   "outputs": [
    {
     "name": "stderr",
     "output_type": "stream",
     "text": [
      "Sampling: [chamber_vol, count, shaker1_to_shaker2_vol, shaker1_vol, shaker2_to_shaker3_vol, shaker2_vol, shaker3_vol, yeast_conc, yeast_in_chamber, yeast_slurry_vol]\n"
     ]
    }
   ],
   "source": [
    "# Since we have a pymc model, we can sample prior values from it, and then simulate the system for each set of parameters\n",
    "\n",
    "with model:\n",
    "    prior_sample = pm.sample_prior_predictive(10000)"
   ]
  },
  {
   "cell_type": "code",
   "execution_count": 44,
   "id": "2a1a38a6",
   "metadata": {},
   "outputs": [
    {
     "ename": "KeyError",
     "evalue": "'count'",
     "output_type": "error",
     "traceback": [
      "\u001b[0;31m---------------------------------------------------------------------------\u001b[0m",
      "\u001b[0;31mKeyError\u001b[0m                                  Traceback (most recent call last)",
      "Cell \u001b[0;32mIn[44], line 1\u001b[0m\n\u001b[0;32m----> 1\u001b[0m count \u001b[38;5;241m=\u001b[39m \u001b[43mprior_sample\u001b[49m\u001b[43m[\u001b[49m\u001b[38;5;124;43m'\u001b[39;49m\u001b[38;5;124;43mcount\u001b[39;49m\u001b[38;5;124;43m'\u001b[39;49m\u001b[43m]\u001b[49m\n",
      "File \u001b[0;32m~/thinkbayes/lib/python3.11/site-packages/arviz/data/inference_data.py:266\u001b[0m, in \u001b[0;36mInferenceData.__getitem__\u001b[0;34m(self, key)\u001b[0m\n\u001b[1;32m    264\u001b[0m \u001b[38;5;250m\u001b[39m\u001b[38;5;124;03m\"\"\"Get item by key.\"\"\"\u001b[39;00m\n\u001b[1;32m    265\u001b[0m \u001b[38;5;28;01mif\u001b[39;00m key \u001b[38;5;129;01mnot\u001b[39;00m \u001b[38;5;129;01min\u001b[39;00m \u001b[38;5;28mself\u001b[39m\u001b[38;5;241m.\u001b[39m_groups_all:\n\u001b[0;32m--> 266\u001b[0m     \u001b[38;5;28;01mraise\u001b[39;00m \u001b[38;5;167;01mKeyError\u001b[39;00m(key)\n\u001b[1;32m    267\u001b[0m \u001b[38;5;28;01mreturn\u001b[39;00m \u001b[38;5;28mgetattr\u001b[39m(\u001b[38;5;28mself\u001b[39m, key)\n",
      "\u001b[0;31mKeyError\u001b[0m: 'count'"
     ]
    }
   ],
   "source": [
    "count = prior_sample['count'] # THIS DOESN'T WORK"
   ]
  },
  {
   "cell_type": "code",
   "execution_count": 45,
   "id": "7ec969f9",
   "metadata": {},
   "outputs": [
    {
     "name": "stdout",
     "output_type": "stream",
     "text": [
      "[ 0  1  2  3  4  5  6  7  8  0  1  2  3  4  5  6  7  8  9 10 11 12 13]\n"
     ]
    }
   ],
   "source": [
    "# I'll see if I can work through the exercise\n",
    "# If the 1st 11 socks in the laundry are distinct, there are a lot of socks\n",
    "\n",
    "# Assume there is some number of pairs n_pairs plus some odd socks n_odds\n",
    "# Assume pairs are different from each other and from odd socks; number of socks of either type is either 1 or 2\n",
    "\n",
    "# The number of socks follows a negative binomia dist with mean 30 and SD 15\n",
    "# The % of paired socks paired follows a beta dist with alpha 15 and beta 2\n",
    "\n",
    "n_pairs = 9\n",
    "n_odds = 5\n",
    "\n",
    "socks = np.append(np.arange(n_pairs), np.arange(n_pairs + n_odds))\n",
    "print(socks)"
   ]
  },
  {
   "cell_type": "code",
   "execution_count": 46,
   "id": "405b3b1f",
   "metadata": {},
   "outputs": [
    {
     "data": {
      "text/plain": [
       "array([ 6,  2,  0, 12,  7, 13,  5,  8, 11,  3,  2])"
      ]
     },
     "execution_count": 46,
     "metadata": {},
     "output_type": "execute_result"
    }
   ],
   "source": [
    "picked_socks = np.random.choice(socks, size=11, replace=False)\n",
    "picked_socks"
   ]
  },
  {
   "cell_type": "code",
   "execution_count": 47,
   "id": "35542126",
   "metadata": {},
   "outputs": [
    {
     "data": {
      "text/plain": [
       "array([ 0,  2,  3,  5,  6,  7,  8, 11, 12, 13])"
      ]
     },
     "execution_count": 47,
     "metadata": {},
     "output_type": "execute_result"
    }
   ],
   "source": [
    "values, counts = np.unique(picked_socks, return_counts=True)\n",
    "values"
   ]
  },
  {
   "cell_type": "code",
   "execution_count": 48,
   "id": "2b6bbc90",
   "metadata": {},
   "outputs": [
    {
     "data": {
      "text/plain": [
       "array([1, 2, 1, 1, 1, 1, 1, 1, 1, 1])"
      ]
     },
     "execution_count": 48,
     "metadata": {},
     "output_type": "execute_result"
    }
   ],
   "source": [
    "counts"
   ]
  },
  {
   "cell_type": "code",
   "execution_count": 49,
   "id": "ffa844cc",
   "metadata": {},
   "outputs": [
    {
     "data": {
      "text/plain": [
       "(9, 1)"
      ]
     },
     "execution_count": 49,
     "metadata": {},
     "output_type": "execute_result"
    }
   ],
   "source": [
    "solo = np.sum(counts==1)\n",
    "pairs = np.sum(counts==2)\n",
    "\n",
    "solo, pairs"
   ]
  },
  {
   "cell_type": "code",
   "execution_count": 52,
   "id": "88b0bbb3",
   "metadata": {},
   "outputs": [],
   "source": [
    "def pick_socks(n_pairs, n_odds, n_pick):\n",
    "    socks = np.append(np.arange(n_pairs), np.arange(n_pairs + n_odds))\n",
    "    picked_socks = np.random.choice(socks, size=n_pick, replace=False)\n",
    "    \n",
    "    values, counts = np.unique(picked_socks, return_counts=True)\n",
    "    pairs = np.sum(counts==2)\n",
    "    odds = np.sum(counts==1)\n",
    "    return pairs, odds"
   ]
  },
  {
   "cell_type": "code",
   "execution_count": 53,
   "id": "d0590222",
   "metadata": {},
   "outputs": [
    {
     "data": {
      "text/plain": [
       "(3, 5)"
      ]
     },
     "execution_count": 53,
     "metadata": {},
     "output_type": "execute_result"
    }
   ],
   "source": [
    "pick_socks(n_pairs, n_odds, 11)"
   ]
  },
  {
   "cell_type": "code",
   "execution_count": 54,
   "id": "1717cee1",
   "metadata": {},
   "outputs": [
    {
     "ename": "NameError",
     "evalue": "name 'prior_n_socks' is not defined",
     "output_type": "error",
     "traceback": [
      "\u001b[0;31m---------------------------------------------------------------------------\u001b[0m",
      "\u001b[0;31mNameError\u001b[0m                                 Traceback (most recent call last)",
      "Cell \u001b[0;32mIn[54], line 4\u001b[0m\n\u001b[1;32m      2\u001b[0m res \u001b[38;5;241m=\u001b[39m []\n\u001b[1;32m      3\u001b[0m \u001b[38;5;28;01mfor\u001b[39;00m i \u001b[38;5;129;01min\u001b[39;00m \u001b[38;5;28mrange\u001b[39m(\u001b[38;5;241m10000\u001b[39m):\n\u001b[0;32m----> 4\u001b[0m     n_socks \u001b[38;5;241m=\u001b[39m \u001b[43mprior_n_socks\u001b[49m\u001b[38;5;241m.\u001b[39mrvs()\n\u001b[1;32m      5\u001b[0m     \u001b[38;5;28;01mif\u001b[39;00m n_socks \u001b[38;5;241m<\u001b[39m \u001b[38;5;241m11\u001b[39m:\n\u001b[1;32m      6\u001b[0m         \u001b[38;5;28;01mcontinue\u001b[39;00m\n",
      "\u001b[0;31mNameError\u001b[0m: name 'prior_n_socks' is not defined"
     ]
    }
   ],
   "source": [
    "data = (0, 11)\n",
    "res = []\n",
    "for i in range(10000):\n",
    "    n_socks = prior_n_socks.rvs()\n",
    "    if n_socks < 11:\n",
    "        continue\n",
    "    prop_pairs = prior_prop_pair.rvs() # THIS IS MISSING FROM THE SOLUTION\n",
    "    n_pairs = np.round(n_socks//2 * prop_pairs)\n",
    "    n_odds = n_socks - n_pairs*2\n",
    "    result = pick_socks(n_pairs, n_odds, 11)\n",
    "    if result == data:\n",
    "        res.append((n_socks, n_pairs, n_odds))\n",
    "        \n",
    "len(res)"
   ]
  },
  {
   "cell_type": "code",
   "execution_count": null,
   "id": "0ba2ea1b",
   "metadata": {},
   "outputs": [],
   "source": [
    "# I THINK I'M DONE"
   ]
  }
 ],
 "metadata": {
  "kernelspec": {
   "display_name": "thinkbayes",
   "language": "python",
   "name": "thinkbayes"
  },
  "language_info": {
   "codemirror_mode": {
    "name": "ipython",
    "version": 3
   },
   "file_extension": ".py",
   "mimetype": "text/x-python",
   "name": "python",
   "nbconvert_exporter": "python",
   "pygments_lexer": "ipython3",
   "version": "3.11.2"
  }
 },
 "nbformat": 4,
 "nbformat_minor": 5
}
